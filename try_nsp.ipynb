{
 "cells": [
  {
   "cell_type": "markdown",
   "id": "f96efc11",
   "metadata": {},
   "source": [
    "## Explore next-sentence-prediction task\n",
    "\n",
    "see if it can help to generate better story ending\n",
    "\n",
    "Tutorial: https://towardsdatascience.com/bert-for-next-sentence-prediction-466b67f8226f"
   ]
  },
  {
   "cell_type": "code",
   "execution_count": 4,
   "id": "e39f2057",
   "metadata": {},
   "outputs": [],
   "source": [
    "from transformers import BertTokenizer, BertForNextSentencePrediction\n",
    "import torch"
   ]
  },
  {
   "cell_type": "code",
   "execution_count": 13,
   "id": "5bedd377",
   "metadata": {},
   "outputs": [
    {
     "name": "stderr",
     "output_type": "stream",
     "text": [
      "Some weights of the model checkpoint at bert-base-uncased were not used when initializing BertForNextSentencePrediction: ['cls.predictions.bias', 'cls.predictions.transform.dense.weight', 'cls.predictions.transform.dense.bias', 'cls.predictions.decoder.weight', 'cls.predictions.transform.LayerNorm.weight', 'cls.predictions.transform.LayerNorm.bias']\n",
      "- This IS expected if you are initializing BertForNextSentencePrediction from the checkpoint of a model trained on another task or with another architecture (e.g. initializing a BertForSequenceClassification model from a BertForPreTraining model).\n",
      "- This IS NOT expected if you are initializing BertForNextSentencePrediction from the checkpoint of a model that you expect to be exactly identical (initializing a BertForSequenceClassification model from a BertForSequenceClassification model).\n"
     ]
    }
   ],
   "source": [
    "tokenizer = BertTokenizer.from_pretrained('bert-base-uncased')\n",
    "model = BertForNextSentencePrediction.from_pretrained('bert-base-uncased')"
   ]
  },
  {
   "cell_type": "code",
   "execution_count": 45,
   "id": "9171a105",
   "metadata": {},
   "outputs": [],
   "source": [
    "text = \"A man and a woman are walking through the city of KathmandU, looking to buy some goods in an unfamiliar area, when they are approached by a woman who says that she has been waiting here for a man she has just met. The man she is waiting for is Ivan, a young man who has been walking the streets for days. They speak for a while in a friendly manner, until a man named Nita appears.\"\n",
    "text2 = \"They say the end of all things will come, but who can say? Will the people who believe in it really be able to stop it from coming?\""
   ]
  },
  {
   "cell_type": "code",
   "execution_count": 43,
   "id": "3d99eac4",
   "metadata": {},
   "outputs": [],
   "source": [
    "text = \"A man and a woman are walking through the city of KathmandU, looking to buy some goods in an unfamiliar area, when they are approached by a woman who says that she has been waiting here for a man she has just met. The man she is waiting for is Ivan, a young man who has been walking the streets for days. They speak for a while in a friendly manner, until a man named Nita appears.\"\n",
    "text2 = \"And then everything went back to the way it had been, with Ivan and all the others walking around in their normal, ordinary lives. That was when Nita told Ivan about the end of all things.\""
   ]
  },
  {
   "cell_type": "code",
   "execution_count": 41,
   "id": "bc968ac1",
   "metadata": {},
   "outputs": [],
   "source": [
    "text = \"The final days of the war in Asia have come and gone. The city of Kathmandum is almost deserted, and Nitta, Ivan, and a small crew are on the edge of starvation. The only remaining humans in the area are the locals. They call themselves the Khumbu-Kathmandu-Lumbini tribe, and as a result, their lives are very hard.\"\n",
    "text2 = \"The Night the Light Went Out in Kathmandu\""
   ]
  },
  {
   "cell_type": "code",
   "execution_count": 39,
   "id": "5eb59705",
   "metadata": {},
   "outputs": [],
   "source": [
    "text = \"Ivan and Niti, a pair of college-age friends, are in the Himalayas for an annual vacation, where they plan to take in a few museums and the Taj Mahal. After a short visit to the city of Kathmandun, the young couple's plane crashes and they awaken in a strange, dark underground complex. They are rescued by an old, wrinkled man who introduces them to a new world of strange creatures, strange landscapes, and strange people.\"\n",
    "text2 = \"A new world, strange people, and new things to see.\""
   ]
  },
  {
   "cell_type": "code",
   "execution_count": 46,
   "id": "bab5c459",
   "metadata": {},
   "outputs": [
    {
     "name": "stdout",
     "output_type": "stream",
     "text": [
      "tensor([[7.3144e-08, 1.0000e+00]], grad_fn=<SoftmaxBackward>)\n"
     ]
    }
   ],
   "source": [
    "inputs = tokenizer(text, text2, return_tensors='pt')\n",
    "inputs_neg = tokenizer(text2, text, return_tensors='pt')\n",
    "logits = model(**inputs).logits\n",
    "logits_neg = model(**inputs_neg).logits\n",
    "logits = logits -logits_neg\n",
    "print(torch.softmax(logits, axis=-1))"
   ]
  },
  {
   "cell_type": "code",
   "execution_count": 55,
   "id": "06ca17cb",
   "metadata": {},
   "outputs": [
    {
     "data": {
      "text/plain": [
       "float"
      ]
     },
     "execution_count": 55,
     "metadata": {},
     "output_type": "execute_result"
    }
   ],
   "source": [
    "type(torch.softmax(logits, axis=-1)[0][0].tolist())"
   ]
  },
  {
   "cell_type": "code",
   "execution_count": null,
   "id": "325196a6",
   "metadata": {},
   "outputs": [],
   "source": []
  }
 ],
 "metadata": {
  "kernelspec": {
   "display_name": "Python 3",
   "language": "python",
   "name": "python3"
  },
  "language_info": {
   "codemirror_mode": {
    "name": "ipython",
    "version": 3
   },
   "file_extension": ".py",
   "mimetype": "text/x-python",
   "name": "python",
   "nbconvert_exporter": "python",
   "pygments_lexer": "ipython3",
   "version": "3.8.8"
  }
 },
 "nbformat": 4,
 "nbformat_minor": 5
}
