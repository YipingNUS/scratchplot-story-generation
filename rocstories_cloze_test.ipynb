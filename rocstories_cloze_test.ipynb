{
 "cells": [
  {
   "cell_type": "code",
   "execution_count": 1,
   "metadata": {},
   "outputs": [],
   "source": [
    "import pandas as pd\n",
    "from tqdm import tqdm\n",
    "\n",
    "import torch\n",
    "\n",
    "from transformers import BertTokenizer, BertForNextSentencePrediction\n",
    "from transformers import GPT2LMHeadModel, GPT2TokenizerFast"
   ]
  },
  {
   "cell_type": "code",
   "execution_count": 2,
   "metadata": {},
   "outputs": [],
   "source": [
    "df = pd.read_csv(\"roc_stories/cloze_test_test__spring2016 - cloze_test_ALL_test.tsv\", sep=\"\\t\", low_memory=False)"
   ]
  },
  {
   "cell_type": "code",
   "execution_count": 3,
   "metadata": {},
   "outputs": [],
   "source": [
    "df['context'] = df.apply(lambda x: f\"{x.InputSentence1} {x.InputSentence2} {x.InputSentence3} {x.InputSentence4}\", axis=1)"
   ]
  },
  {
   "cell_type": "code",
   "execution_count": 4,
   "metadata": {},
   "outputs": [],
   "source": [
    "df.drop(['InputSentence1', 'InputSentence2', 'InputSentence3', 'InputSentence4'], axis=1, inplace=True)"
   ]
  },
  {
   "cell_type": "code",
   "execution_count": 5,
   "metadata": {},
   "outputs": [
    {
     "data": {
      "text/plain": [
       "Index(['InputStoryid', 'RandomFifthSentenceQuiz1', 'RandomFifthSentenceQuiz2',\n",
       "       'AnswerRightEnding', 'context'],\n",
       "      dtype='object')"
      ]
     },
     "execution_count": 5,
     "metadata": {},
     "output_type": "execute_result"
    }
   ],
   "source": [
    "df.columns"
   ]
  },
  {
   "cell_type": "markdown",
   "metadata": {},
   "source": [
    "## NSP prediction"
   ]
  },
  {
   "cell_type": "code",
   "execution_count": 6,
   "metadata": {},
   "outputs": [
    {
     "name": "stderr",
     "output_type": "stream",
     "text": [
      "Some weights of the model checkpoint at bert-base-uncased were not used when initializing BertForNextSentencePrediction: ['cls.predictions.bias', 'cls.predictions.transform.dense.weight', 'cls.predictions.transform.dense.bias', 'cls.predictions.decoder.weight', 'cls.predictions.transform.LayerNorm.weight', 'cls.predictions.transform.LayerNorm.bias']\n",
      "- This IS expected if you are initializing BertForNextSentencePrediction from the checkpoint of a model trained on another task or with another architecture (e.g. initializing a BertForSequenceClassification model from a BertForPreTraining model).\n",
      "- This IS NOT expected if you are initializing BertForNextSentencePrediction from the checkpoint of a model that you expect to be exactly identical (initializing a BertForSequenceClassification model from a BertForSequenceClassification model).\n"
     ]
    }
   ],
   "source": [
    "model_name = \"bert-base-uncased\"\n",
    "device = \"cpu\"\n",
    "tokenizer = BertTokenizer.from_pretrained(model_name)\n",
    "model = BertForNextSentencePrediction.from_pretrained(model_name).to(device)"
   ]
  },
  {
   "cell_type": "code",
   "execution_count": 7,
   "metadata": {},
   "outputs": [],
   "source": [
    "def select_nsp(context, ending1, ending2):\n",
    "    inputs = tokenizer([context, context], [ending1, ending2], return_tensors='pt', padding=True, truncation=True).to(device)\n",
    "    with torch.no_grad():\n",
    "        logits = model(**inputs).logits\n",
    "        scores = torch.softmax(logits, axis=-1)[:,0]\n",
    "        if scores[0] > scores[1]:\n",
    "            return 1\n",
    "        else:\n",
    "            return 2"
   ]
  },
  {
   "cell_type": "code",
   "execution_count": 8,
   "metadata": {},
   "outputs": [
    {
     "name": "stderr",
     "output_type": "stream",
     "text": [
      "100%|██████████| 1871/1871 [13:31<00:00,  2.31it/s]\n"
     ]
    }
   ],
   "source": [
    "data = list(zip(df.context.to_list(), df.RandomFifthSentenceQuiz1.tolist(), df.RandomFifthSentenceQuiz2.tolist()))\n",
    "nsp_preds = list()\n",
    "for i in tqdm(range(len(data))):\n",
    "    context, ending1, ending2 = data[i]\n",
    "    pred = select_nsp(context, ending1, ending2)\n",
    "    nsp_preds.append(pred)"
   ]
  },
  {
   "cell_type": "code",
   "execution_count": 10,
   "metadata": {},
   "outputs": [
    {
     "name": "stdout",
     "output_type": "stream",
     "text": [
      "NSP accuracy: 0.5799037947621593\n"
     ]
    }
   ],
   "source": [
    "df['nsp_pred'] = nsp_preds\n",
    "print(f\"NSP accuracy: {sum(df['nsp_pred'] == df['AnswerRightEnding'])/len(data)}\")"
   ]
  },
  {
   "cell_type": "markdown",
   "metadata": {},
   "source": [
    "## Perplexity"
   ]
  },
  {
   "cell_type": "code",
   "execution_count": 18,
   "metadata": {},
   "outputs": [],
   "source": [
    "model_name = 'gpt2'\n",
    "device = 'cpu'\n",
    "model = GPT2LMHeadModel.from_pretrained(model_name).to(device)\n",
    "tokenizer = GPT2TokenizerFast.from_pretrained(model_name)"
   ]
  },
  {
   "cell_type": "code",
   "execution_count": 21,
   "metadata": {},
   "outputs": [],
   "source": [
    "def calc_nll(context, ending):\n",
    "    evidence_inp = tokenizer(context, return_tensors='pt')\n",
    "    claim_inp = tokenizer(ending, return_tensors='pt')\n",
    "    tgt_len = claim_inp.input_ids.size(1)\n",
    "    input_ids = torch.cat([evidence_inp.input_ids, claim_inp.input_ids], axis=-1).to(device)\n",
    "    target_ids = input_ids.clone()\n",
    "    # mask the evidence so they're not considered when calculating the perplexity\n",
    "    target_ids[:, :-tgt_len] = -100\n",
    "    with torch.no_grad():\n",
    "        outputs = model(input_ids, labels=target_ids)\n",
    "        nll = outputs[0] # TODO: confirm whether to multiply by * tgt_len\n",
    "        return nll"
   ]
  },
  {
   "cell_type": "code",
   "execution_count": 24,
   "metadata": {},
   "outputs": [
    {
     "name": "stderr",
     "output_type": "stream",
     "text": [
      "100%|██████████| 1871/1871 [20:33<00:00,  1.52it/s]\n"
     ]
    }
   ],
   "source": [
    "data = list(zip(df.context.to_list(), df.RandomFifthSentenceQuiz1.tolist(), df.RandomFifthSentenceQuiz2.tolist()))\n",
    "nll_preds = list()\n",
    "for i in tqdm(range(len(data))):\n",
    "    context, ending1, ending2 = data[i]\n",
    "    nll1 = calc_nll(context, ending1)\n",
    "    nll2 = calc_nll(context, ending2)\n",
    "    if nll1 < nll2:\n",
    "        nll_preds.append(1)\n",
    "    else:\n",
    "        nll_preds.append(2)"
   ]
  },
  {
   "cell_type": "code",
   "execution_count": 25,
   "metadata": {},
   "outputs": [
    {
     "name": "stdout",
     "output_type": "stream",
     "text": [
      "ppl accuracy: 0.5873864243719936\n"
     ]
    }
   ],
   "source": [
    "df['ppl_pred'] = nll_preds\n",
    "print(f\"ppl accuracy: {sum(df['ppl_pred'] == df['AnswerRightEnding'])/len(data)}\")"
   ]
  },
  {
   "cell_type": "code",
   "execution_count": 26,
   "metadata": {},
   "outputs": [],
   "source": [
    "df.to_csv(\"roc_stories/result.tsv\", sep=\"\\t\", index=False)"
   ]
  },
  {
   "cell_type": "code",
   "execution_count": null,
   "metadata": {},
   "outputs": [],
   "source": []
  }
 ],
 "metadata": {
  "kernelspec": {
   "display_name": "Python 3",
   "language": "python",
   "name": "python3"
  },
  "language_info": {
   "codemirror_mode": {
    "name": "ipython",
    "version": 3
   },
   "file_extension": ".py",
   "mimetype": "text/x-python",
   "name": "python",
   "nbconvert_exporter": "python",
   "pygments_lexer": "ipython3",
   "version": "3.8.3"
  }
 },
 "nbformat": 4,
 "nbformat_minor": 4
}
